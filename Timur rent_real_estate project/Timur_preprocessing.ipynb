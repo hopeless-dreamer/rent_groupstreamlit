{
 "cells": [
  {
   "cell_type": "code",
   "execution_count": 551,
   "id": "fcd54c1a-60b0-405f-87a7-6d40a759a20f",
   "metadata": {},
   "outputs": [],
   "source": [
    "import pandas as pd \n",
    "import numpy as np\n",
    "import matplotlib as mpl\n",
    "import matplotlib.pyplot as plt"
   ]
  },
  {
   "cell_type": "code",
   "execution_count": 552,
   "id": "a3373f38-1013-473a-bcbc-d6f6c4ece5a6",
   "metadata": {},
   "outputs": [],
   "source": [
    "setT=pd.read_csv('/home/hopelessdreamer/ds_bootcamp/projects/rent_groupstreamlit/Timur rent_real_estate project/project/_data.csv')"
   ]
  },
  {
   "cell_type": "code",
   "execution_count": 553,
   "id": "c886ecfc-d812-494c-8156-068a131e674c",
   "metadata": {},
   "outputs": [],
   "source": [
    "fd2=setT[11684:]"
   ]
  },
  {
   "cell_type": "code",
   "execution_count": 554,
   "id": "5f0bf3bf-6dfc-47d7-8d22-1df889cea2dc",
   "metadata": {},
   "outputs": [
    {
     "name": "stderr",
     "output_type": "stream",
     "text": [
      "/tmp/ipykernel_19382/3162545151.py:1: SettingWithCopyWarning: \n",
      "A value is trying to be set on a copy of a slice from a DataFrame\n",
      "\n",
      "See the caveats in the documentation: https://pandas.pydata.org/pandas-docs/stable/user_guide/indexing.html#returning-a-view-versus-a-copy\n",
      "  fd2.drop(['Тип','Адрес','Телефоны','Описание','Название ЖК','Ссылка на объявление', 'Площадь комнат, м2', 'Окна', 'Серия дома', 'Мусоропровод'], axis=1, inplace=True)\n"
     ]
    }
   ],
   "source": [
    "fd2.drop(['Тип','Адрес','Телефоны','Описание','Название ЖК','Ссылка на объявление', 'Площадь комнат, м2', 'Окна', 'Серия дома', 'Мусоропровод'], axis=1, inplace=True)"
   ]
  },
  {
   "cell_type": "code",
   "execution_count": 555,
   "id": "4300a4b7-be31-4c10-9dc1-5cda6db81feb",
   "metadata": {},
   "outputs": [
    {
     "data": {
      "text/plain": [
       "Index(['Unnamed: 0', 'ID  объявления', 'Количество комнат', 'Метро',\n",
       "       'Площадь, м2', 'Дом', 'Парковка', 'Цена', 'Ремонт', 'Балкон', 'Санузел',\n",
       "       'Можно с детьми/животными', 'Дополнительно', 'Высота потолков, м',\n",
       "       'Лифт'],\n",
       "      dtype='object')"
      ]
     },
     "execution_count": 555,
     "metadata": {},
     "output_type": "execute_result"
    }
   ],
   "source": [
    "fd2.columns"
   ]
  },
  {
   "cell_type": "code",
   "execution_count": 556,
   "id": "36e30647-0a32-4a16-b468-2b70c2594414",
   "metadata": {},
   "outputs": [
    {
     "name": "stderr",
     "output_type": "stream",
     "text": [
      "/tmp/ipykernel_19382/1174420163.py:1: SettingWithCopyWarning: \n",
      "A value is trying to be set on a copy of a slice from a DataFrame\n",
      "\n",
      "See the caveats in the documentation: https://pandas.pydata.org/pandas-docs/stable/user_guide/indexing.html#returning-a-view-versus-a-copy\n",
      "  fd2.rename(columns={'Unnamed: 0': 'Unnamed_0'}, inplace=True)\n",
      "/tmp/ipykernel_19382/1174420163.py:2: SettingWithCopyWarning: \n",
      "A value is trying to be set on a copy of a slice from a DataFrame\n",
      "\n",
      "See the caveats in the documentation: https://pandas.pydata.org/pandas-docs/stable/user_guide/indexing.html#returning-a-view-versus-a-copy\n",
      "  fd2.rename(columns={'ID  объявления': 'ID'}, inplace=True)\n",
      "/tmp/ipykernel_19382/1174420163.py:3: SettingWithCopyWarning: \n",
      "A value is trying to be set on a copy of a slice from a DataFrame\n",
      "\n",
      "See the caveats in the documentation: https://pandas.pydata.org/pandas-docs/stable/user_guide/indexing.html#returning-a-view-versus-a-copy\n",
      "  fd2.rename(columns={'Количество комнат': 'rooms_qnty'}, inplace=True)\n",
      "/tmp/ipykernel_19382/1174420163.py:4: SettingWithCopyWarning: \n",
      "A value is trying to be set on a copy of a slice from a DataFrame\n",
      "\n",
      "See the caveats in the documentation: https://pandas.pydata.org/pandas-docs/stable/user_guide/indexing.html#returning-a-view-versus-a-copy\n",
      "  fd2.rename(columns={'Площадь, м2': 'apart_area'}, inplace=True)\n",
      "/tmp/ipykernel_19382/1174420163.py:5: SettingWithCopyWarning: \n",
      "A value is trying to be set on a copy of a slice from a DataFrame\n",
      "\n",
      "See the caveats in the documentation: https://pandas.pydata.org/pandas-docs/stable/user_guide/indexing.html#returning-a-view-versus-a-copy\n",
      "  fd2.rename(columns={'Парковка': 'parking'}, inplace=True)\n",
      "/tmp/ipykernel_19382/1174420163.py:6: SettingWithCopyWarning: \n",
      "A value is trying to be set on a copy of a slice from a DataFrame\n",
      "\n",
      "See the caveats in the documentation: https://pandas.pydata.org/pandas-docs/stable/user_guide/indexing.html#returning-a-view-versus-a-copy\n",
      "  fd2.rename(columns={'Цена': 'price'}, inplace=True)\n",
      "/tmp/ipykernel_19382/1174420163.py:7: SettingWithCopyWarning: \n",
      "A value is trying to be set on a copy of a slice from a DataFrame\n",
      "\n",
      "See the caveats in the documentation: https://pandas.pydata.org/pandas-docs/stable/user_guide/indexing.html#returning-a-view-versus-a-copy\n",
      "  fd2.rename(columns={'Ремонт': 'repairs'}, inplace=True)\n",
      "/tmp/ipykernel_19382/1174420163.py:8: SettingWithCopyWarning: \n",
      "A value is trying to be set on a copy of a slice from a DataFrame\n",
      "\n",
      "See the caveats in the documentation: https://pandas.pydata.org/pandas-docs/stable/user_guide/indexing.html#returning-a-view-versus-a-copy\n",
      "  fd2.rename(columns={'Балкон': 'balcony'}, inplace=True)\n",
      "/tmp/ipykernel_19382/1174420163.py:9: SettingWithCopyWarning: \n",
      "A value is trying to be set on a copy of a slice from a DataFrame\n",
      "\n",
      "See the caveats in the documentation: https://pandas.pydata.org/pandas-docs/stable/user_guide/indexing.html#returning-a-view-versus-a-copy\n",
      "  fd2.rename(columns={'Санузел': 'bathroom'}, inplace=True)\n",
      "/tmp/ipykernel_19382/1174420163.py:10: SettingWithCopyWarning: \n",
      "A value is trying to be set on a copy of a slice from a DataFrame\n",
      "\n",
      "See the caveats in the documentation: https://pandas.pydata.org/pandas-docs/stable/user_guide/indexing.html#returning-a-view-versus-a-copy\n",
      "  fd2.rename(columns={'Можно с детьми/животными': 'animals_kids'}, inplace=True)\n",
      "/tmp/ipykernel_19382/1174420163.py:11: SettingWithCopyWarning: \n",
      "A value is trying to be set on a copy of a slice from a DataFrame\n",
      "\n",
      "See the caveats in the documentation: https://pandas.pydata.org/pandas-docs/stable/user_guide/indexing.html#returning-a-view-versus-a-copy\n",
      "  fd2.rename(columns={'Высота потолков, м': 'ceil_height'}, inplace=True)\n",
      "/tmp/ipykernel_19382/1174420163.py:12: SettingWithCopyWarning: \n",
      "A value is trying to be set on a copy of a slice from a DataFrame\n",
      "\n",
      "See the caveats in the documentation: https://pandas.pydata.org/pandas-docs/stable/user_guide/indexing.html#returning-a-view-versus-a-copy\n",
      "  fd2.rename(columns={'Лифт': 'elevator'}, inplace=True)\n"
     ]
    }
   ],
   "source": [
    "fd2.rename(columns={'Unnamed: 0': 'Unnamed_0'}, inplace=True)\n",
    "fd2.rename(columns={'ID  объявления': 'ID'}, inplace=True)   \n",
    "fd2.rename(columns={'Количество комнат': 'rooms_qnty'}, inplace=True)\n",
    "fd2.rename(columns={'Площадь, м2': 'apart_area'}, inplace=True)\n",
    "fd2.rename(columns={'Парковка': 'parking'}, inplace=True)\n",
    "fd2.rename(columns={'Цена': 'price'}, inplace=True)\n",
    "fd2.rename(columns={'Ремонт': 'repairs'}, inplace=True)\n",
    "fd2.rename(columns={'Балкон': 'balcony'}, inplace=True)\n",
    "fd2.rename(columns={'Санузел': 'bathroom'}, inplace=True)\n",
    "fd2.rename(columns={'Можно с детьми/животными': 'animals_kids'}, inplace=True)\n",
    "fd2.rename(columns={'Высота потолков, м': 'ceil_height'}, inplace=True)\n",
    "fd2.rename(columns={'Лифт': 'elevator'}, inplace=True)\n"
   ]
  },
  {
   "cell_type": "code",
   "execution_count": 557,
   "id": "b6b026dd-5f1a-4143-97c5-9cc357e837ac",
   "metadata": {},
   "outputs": [
    {
     "data": {
      "text/plain": [
       "Index(['Unnamed_0', 'ID', 'rooms_qnty', 'Метро', 'apart_area', 'Дом',\n",
       "       'parking', 'price', 'repairs', 'balcony', 'bathroom', 'animals_kids',\n",
       "       'Дополнительно', 'ceil_height', 'elevator'],\n",
       "      dtype='object')"
      ]
     },
     "execution_count": 557,
     "metadata": {},
     "output_type": "execute_result"
    }
   ],
   "source": [
    "fd2.columns"
   ]
  },
  {
   "cell_type": "code",
   "execution_count": 558,
   "id": "ebeb98fb-ecf0-432a-b3de-e60adcbb0f38",
   "metadata": {},
   "outputs": [
    {
     "data": {
      "text/plain": [
       "12"
      ]
     },
     "execution_count": 558,
     "metadata": {},
     "output_type": "execute_result"
    }
   ],
   "source": [
    "fd2.columns.get_loc('Дополнительно')"
   ]
  },
  {
   "cell_type": "code",
   "execution_count": 559,
   "id": "81e56bd2-8068-47fd-a275-4aadb48a2887",
   "metadata": {},
   "outputs": [],
   "source": [
    "fd2.insert(3, 'metro_station_rating', None)"
   ]
  },
  {
   "cell_type": "code",
   "execution_count": 560,
   "id": "c496b4b1-01e7-4e1b-8018-2f9fccda7b7e",
   "metadata": {},
   "outputs": [],
   "source": [
    "fd2.insert(4, 'time_to_metro', None)"
   ]
  },
  {
   "cell_type": "code",
   "execution_count": 561,
   "id": "995c7fd6-d5ce-407f-b6f2-a1833d8bc96a",
   "metadata": {},
   "outputs": [],
   "source": [
    "fd2.insert(7, 'floor', None)\n",
    "fd2.insert(8, 'house_type', None)"
   ]
  },
  {
   "cell_type": "code",
   "execution_count": 562,
   "id": "b123e667-2884-48db-a06f-c440d4222609",
   "metadata": {},
   "outputs": [],
   "source": [
    "fd2.insert(16, 'room_furn', None)\n",
    "fd2.insert(17, 'kitch_furn', None)\n",
    "fd2.insert(18, 'fridge', None)\n",
    "fd2.insert(19, 'washing_mach', None)\n",
    "fd2.insert(20, 'internet', None)"
   ]
  },
  {
   "cell_type": "code",
   "execution_count": 563,
   "id": "f89a81cd-7851-49ee-9a0b-d3f6d2a90c26",
   "metadata": {},
   "outputs": [
    {
     "name": "stderr",
     "output_type": "stream",
     "text": [
      "/tmp/ipykernel_19382/4032564239.py:9: SettingWithCopyWarning: \n",
      "A value is trying to be set on a copy of a slice from a DataFrame.\n",
      "Try using .loc[row_indexer,col_indexer] = value instead\n",
      "\n",
      "See the caveats in the documentation: https://pandas.pydata.org/pandas-docs/stable/user_guide/indexing.html#returning-a-view-versus-a-copy\n",
      "  fd2['metro_station_rating']=fd2['Метро'].loc[fd2['Метро'].isnull()==False].apply(metro)\n",
      "/tmp/ipykernel_19382/4032564239.py:48: SettingWithCopyWarning: \n",
      "A value is trying to be set on a copy of a slice from a DataFrame.\n",
      "Try using .loc[row_indexer,col_indexer] = value instead\n",
      "\n",
      "See the caveats in the documentation: https://pandas.pydata.org/pandas-docs/stable/user_guide/indexing.html#returning-a-view-versus-a-copy\n",
      "  fd2['metro_station_rating']=fd2['metro_station_rating'].apply(metro_numb)\n",
      "/tmp/ipykernel_19382/4032564239.py:62: SettingWithCopyWarning: \n",
      "A value is trying to be set on a copy of a slice from a DataFrame.\n",
      "Try using .loc[row_indexer,col_indexer] = value instead\n",
      "\n",
      "See the caveats in the documentation: https://pandas.pydata.org/pandas-docs/stable/user_guide/indexing.html#returning-a-view-versus-a-copy\n",
      "  fd2['time_to_metro']=fd2['Метро'].loc[fd2['Метро'].isnull()==False].apply(minutes_metro)\n"
     ]
    }
   ],
   "source": [
    "def metro(s):\n",
    "    s=s[3:]\n",
    "    for i in range(0,len(s)):\n",
    "        if s[i]=='(':\n",
    "            s=s[0:i-1]\n",
    "            break\n",
    "    s.strip()\n",
    "    return s\n",
    "fd2['metro_station_rating']=fd2['Метро'].loc[fd2['Метро'].isnull()==False].apply(metro)\n",
    "def metro_numb(station):\n",
    "    center_stations = ('Александровский сад', 'Арбатская', 'Баррикадная', 'Бауманская', \n",
    "    'Белорусская', 'Библиотека имени Ленина', 'Боровицкая', 'Бутырская',\n",
    "    'Горьковская', 'Достоевская', 'Китай-город', 'Краснопресненская', \n",
    "    'Лубянка', 'Маяковская', 'Марксистская', 'Октябрьская', 'Площадь Революции',\n",
    "    'Преображенская площадь', 'Революционная', 'Сретенский бульвар', 'Таганская',\n",
    "    'Тверская', 'Тургеневская', 'Улица 1905 года', 'Чистые пруды')\n",
    "    mid_stations = (\n",
    "    'Академическая', 'Академгородок', 'Аэропорт', 'Бабушкинская', 'Беляево', \n",
    "    'Ботанический сад', 'Варшавская', 'Водный стадион', 'Воробьевы горы', \n",
    "    'Выхино', 'Добрынинская', 'Дубровка', 'Елизаровская', 'Зеленоград', \n",
    "    'Ильинская', 'Калужская', 'Киевская', 'Кожухово', 'Коломенская', \n",
    "    'Комсомольская', 'Коньково', 'Королёв', 'Кропоткинская', 'Крымская', \n",
    "    'Кунцевская', 'Ленинский проспект', 'Лермонтовский проспект', 'Лужники',\n",
    "    'Львовская', 'Люблино', 'Менделеевская', 'Молодежная', 'Мякинина',\n",
    "    'Нахимовский проспект', 'Нижегородская', 'Новогиреево', 'Новослободская',\n",
    "    'Новоясеневская', 'Павелецкая', 'Парк Победы', 'Перово', 'Петропавловская', \n",
    "    'Речной вокзал', 'Рязанский проспект', 'Савёловская', 'Северное Измайлово',\n",
    "    'Северное Тушино', 'Семеновская', 'Софийская', 'Спортивная', 'Суходол',\n",
    "    'Третьяковская', 'Трудовая', 'Трубная', 'Улица Скобелевская', 'Университет', \n",
    "    'Устинова', 'Фрунзенская', 'Хорошево', 'Цветной бульвар', 'Чертановская',\n",
    "    'Шаболовская', 'Шелепиха')\n",
    "    outer_stations = (\n",
    "    'Алтуфьево', 'Битцевский парк', 'Говорово', 'Деловой центр', 'Домодедовская',\n",
    "    'Донской', 'Дорогомилово', 'Жулебино', 'Зябликово', 'Калужская', 'Кожухово', \n",
    "    'Коломенская', 'Комсомольская', 'Краснопресненская', 'Курская', 'Ленинский проспект',\n",
    "    'Лермонтовский проспект', 'Лужники', 'Люблино', 'Марьино', 'Медведково',\n",
    "    'Молодежная', 'Мякинина', 'Нахимовский проспект', 'Нижегородская', 'Новогиреево',\n",
    "    'Новослободская', 'Новоясеневская', 'Павелецкая', 'Перово', 'Петропавловская',\n",
    "    'Речной вокзал', 'Рязанский проспект', 'Савёловская', 'Северное Измайлово', \n",
    "    'Северное Тушино', 'Семеновская', 'Софийская', 'Спортивная', 'Суходол', \n",
    "    'Сходненская', 'Тимирязевская', 'Трубная', 'Улица Скобелевская', 'Университет', \n",
    "    'Устинова', 'Фрунзенская', 'Хорошево', 'Чертановская', 'Шаболовская', \n",
    "    'Шелепиха', 'Щелковская', 'Юго-Западная', 'Южная')\n",
    "    dict_metro={outer_stations:0, mid_stations:1, center_stations:2}\n",
    "    for i in list(dict_metro.keys()):\n",
    "        if station in i:\n",
    "            return dict_metro[i]\n",
    "fd2['metro_station_rating']=fd2['metro_station_rating'].apply(metro_numb)\n",
    "def minutes_metro(p):\n",
    "    s2=''\n",
    "    if p!='' and p!='NaN' and p!=None:\n",
    "        for i in range(0,len(p)):\n",
    "            if p[i].isdigit():\n",
    "                while p[i].isdigit():\n",
    "                    s2+=p[i]\n",
    "                    i+=1\n",
    "                return int(s2)\n",
    "            else:\n",
    "                continue\n",
    "    else:\n",
    "        return None\n",
    "fd2['time_to_metro']=fd2['Метро'].loc[fd2['Метро'].isnull()==False].apply(minutes_metro)\n"
   ]
  },
  {
   "cell_type": "code",
   "execution_count": 564,
   "id": "9d249fe9-1c57-42b6-85da-aaac45815f80",
   "metadata": {},
   "outputs": [
    {
     "name": "stderr",
     "output_type": "stream",
     "text": [
      "/tmp/ipykernel_19382/2069726279.py:1: SettingWithCopyWarning: \n",
      "A value is trying to be set on a copy of a slice from a DataFrame\n",
      "\n",
      "See the caveats in the documentation: https://pandas.pydata.org/pandas-docs/stable/user_guide/indexing.html#returning-a-view-versus-a-copy\n",
      "  fd2.drop(['Метро'], axis=1, inplace=True)\n"
     ]
    }
   ],
   "source": [
    "fd2.drop(['Метро'], axis=1, inplace=True)"
   ]
  },
  {
   "cell_type": "code",
   "execution_count": 565,
   "id": "1258afe8-fd4e-419f-807f-97c01fe6f4ed",
   "metadata": {},
   "outputs": [
    {
     "name": "stderr",
     "output_type": "stream",
     "text": [
      "/tmp/ipykernel_19382/1468923826.py:8: SettingWithCopyWarning: \n",
      "A value is trying to be set on a copy of a slice from a DataFrame.\n",
      "Try using .loc[row_indexer,col_indexer] = value instead\n",
      "\n",
      "See the caveats in the documentation: https://pandas.pydata.org/pandas-docs/stable/user_guide/indexing.html#returning-a-view-versus-a-copy\n",
      "  fd2['floor']=fd2['Дом'].loc[fd2['Дом'].isnull()==False].apply(floor_h)\n"
     ]
    }
   ],
   "source": [
    "def floor_h(f):\n",
    "    f2=''\n",
    "    for i in f:\n",
    "        if i !='/':\n",
    "            f2+=i\n",
    "        else:\n",
    "            return int(f2)\n",
    "fd2['floor']=fd2['Дом'].loc[fd2['Дом'].isnull()==False].apply(floor_h)"
   ]
  },
  {
   "cell_type": "code",
   "execution_count": 566,
   "id": "1aa80e63-f684-498e-8870-3c99513b3ec7",
   "metadata": {},
   "outputs": [
    {
     "name": "stderr",
     "output_type": "stream",
     "text": [
      "/tmp/ipykernel_19382/1634105390.py:10: SettingWithCopyWarning: \n",
      "A value is trying to be set on a copy of a slice from a DataFrame.\n",
      "Try using .loc[row_indexer,col_indexer] = value instead\n",
      "\n",
      "See the caveats in the documentation: https://pandas.pydata.org/pandas-docs/stable/user_guide/indexing.html#returning-a-view-versus-a-copy\n",
      "  fd2['apart_area']=fd2['apart_area'].loc[fd2['apart_area'].isnull()==False].apply(area)\n"
     ]
    }
   ],
   "source": [
    "def area(f):\n",
    "    f2=''\n",
    "    for i in f:\n",
    "        if i!='/':\n",
    "            f2+=i\n",
    "        else:\n",
    "            break\n",
    "    return f2\n",
    "\n",
    "fd2['apart_area']=fd2['apart_area'].loc[fd2['apart_area'].isnull()==False].apply(area)\n"
   ]
  },
  {
   "cell_type": "code",
   "execution_count": 567,
   "id": "a5c40cbe-296b-4102-bac3-2587d93053c5",
   "metadata": {},
   "outputs": [
    {
     "data": {
      "text/plain": [
       "Index(['Unnamed_0', 'ID', 'rooms_qnty', 'metro_station_rating',\n",
       "       'time_to_metro', 'apart_area', 'floor', 'house_type', 'Дом', 'parking',\n",
       "       'price', 'repairs', 'balcony', 'bathroom', 'animals_kids', 'room_furn',\n",
       "       'kitch_furn', 'fridge', 'washing_mach', 'internet', 'Дополнительно',\n",
       "       'ceil_height', 'elevator'],\n",
       "      dtype='object')"
      ]
     },
     "execution_count": 567,
     "metadata": {},
     "output_type": "execute_result"
    }
   ],
   "source": [
    "fd2.columns"
   ]
  },
  {
   "cell_type": "code",
   "execution_count": 568,
   "id": "4f379fff-b4ba-4f1b-b95f-345ed687e92a",
   "metadata": {},
   "outputs": [],
   "source": [
    "fd2.loc[fd2['Дополнительно'].str.contains('Мебель в комнатах', na=False), 'room_furn'] = 1\n",
    "fd2.loc[~fd2['Дополнительно'].str.contains('Мебель в комнатах', na=True), 'room_furn'] = 0\n",
    "fd2.loc[fd2['Дополнительно'].str.contains('Мебель на кухне', na=False), 'kitch_furn'] = 1\n",
    "fd2.loc[~fd2['Дополнительно'].str.contains('Мебель на кухне', na=True), 'kitch_furn'] = 0\n",
    "fd2.loc[fd2['Дополнительно'].str.contains('Холодильник', na=False), 'fridge'] = 1\n",
    "fd2.loc[~fd2['Дополнительно'].str.contains('Холодильник', na=True), 'fridge'] = 0\n",
    "fd2.loc[fd2['Дополнительно'].str.contains('Стиральная машина', na=False), 'washing_mach'] = 1\n",
    "fd2.loc[~fd2['Дополнительно'].str.contains('Стиральная машина', na=True), 'washing_mach'] = 0\n",
    "fd2.loc[fd2['Дополнительно'].str.contains('Интернет', na=False), 'internet'] = 1\n",
    "fd2.loc[~fd2['Дополнительно'].str.contains('Интернет', na=True), 'internet'] = 0"
   ]
  },
  {
   "cell_type": "code",
   "execution_count": 569,
   "id": "872cbaa0-ae06-460c-a66c-4b5568eb87cc",
   "metadata": {},
   "outputs": [
    {
     "name": "stderr",
     "output_type": "stream",
     "text": [
      "/tmp/ipykernel_19382/2941217031.py:1: SettingWithCopyWarning: \n",
      "A value is trying to be set on a copy of a slice from a DataFrame\n",
      "\n",
      "See the caveats in the documentation: https://pandas.pydata.org/pandas-docs/stable/user_guide/indexing.html#returning-a-view-versus-a-copy\n",
      "  fd2.drop(['Дополнительно'], axis=1, inplace=True)\n"
     ]
    }
   ],
   "source": [
    "fd2.drop(['Дополнительно'], axis=1, inplace=True)"
   ]
  },
  {
   "cell_type": "code",
   "execution_count": 570,
   "id": "93abd8fc-0099-48ce-af7d-3941c29f7f1d",
   "metadata": {},
   "outputs": [
    {
     "name": "stderr",
     "output_type": "stream",
     "text": [
      "/tmp/ipykernel_19382/2446728453.py:8: SettingWithCopyWarning: \n",
      "A value is trying to be set on a copy of a slice from a DataFrame.\n",
      "Try using .loc[row_indexer,col_indexer] = value instead\n",
      "\n",
      "See the caveats in the documentation: https://pandas.pydata.org/pandas-docs/stable/user_guide/indexing.html#returning-a-view-versus-a-copy\n",
      "  fd2['house_type']=fd2['Дом'].loc[fd2['Дом'].isnull()==False].apply(dom)\n",
      "/tmp/ipykernel_19382/2446728453.py:18: SettingWithCopyWarning: \n",
      "A value is trying to be set on a copy of a slice from a DataFrame.\n",
      "Try using .loc[row_indexer,col_indexer] = value instead\n",
      "\n",
      "See the caveats in the documentation: https://pandas.pydata.org/pandas-docs/stable/user_guide/indexing.html#returning-a-view-versus-a-copy\n",
      "  fd2['house_type']=fd2['house_type'].loc[fd2['house_type'].isnull()==False].apply(houses_types)\n"
     ]
    }
   ],
   "source": [
    "def dom(t):\n",
    "    t=t.split()\n",
    "    if len(t)>1:\n",
    "        return t[1]\n",
    "    else:\n",
    "        return None\n",
    "\n",
    "fd2['house_type']=fd2['Дом'].loc[fd2['Дом'].isnull()==False].apply(dom)\n",
    "\n",
    "def houses_types(h):\n",
    "    dict_types_houses={'Панельный':1, 'Кирпичный':2, 'Блочный':3, 'Монолитный':4, 'Монолитно-кирпичный':5, 'Сталинский':6, 'Газобетонный':7, 'старый':8,\n",
    "       'Щитовой':9, 'Деревянный':10}\n",
    "    if h in dict_types_houses.keys():\n",
    "        return dict_types_houses[h]\n",
    "    else:\n",
    "        return None\n",
    "\n",
    "fd2['house_type']=fd2['house_type'].loc[fd2['house_type'].isnull()==False].apply(houses_types)"
   ]
  },
  {
   "cell_type": "code",
   "execution_count": 571,
   "id": "e4a97984-453f-4f8d-b020-99218d9a5dd0",
   "metadata": {},
   "outputs": [
    {
     "name": "stderr",
     "output_type": "stream",
     "text": [
      "/tmp/ipykernel_19382/4163650826.py:1: SettingWithCopyWarning: \n",
      "A value is trying to be set on a copy of a slice from a DataFrame\n",
      "\n",
      "See the caveats in the documentation: https://pandas.pydata.org/pandas-docs/stable/user_guide/indexing.html#returning-a-view-versus-a-copy\n",
      "  fd2.drop(['Дом'], axis=1, inplace=True)\n"
     ]
    }
   ],
   "source": [
    "fd2.drop(['Дом'], axis=1, inplace=True)"
   ]
  },
  {
   "cell_type": "code",
   "execution_count": 572,
   "id": "0824a6ab-5d0c-43c2-84a8-4aa5e76cdcd3",
   "metadata": {},
   "outputs": [
    {
     "data": {
      "text/plain": [
       "array([ 1.,  2.,  3.,  4., nan,  5.,  6.,  7.,  8.,  9., 10.])"
      ]
     },
     "execution_count": 572,
     "metadata": {},
     "output_type": "execute_result"
    }
   ],
   "source": [
    "fd2['house_type'].unique()"
   ]
  },
  {
   "cell_type": "code",
   "execution_count": 573,
   "id": "3995aa5e-170c-440a-8dc6-cffb08cc5d44",
   "metadata": {},
   "outputs": [
    {
     "name": "stderr",
     "output_type": "stream",
     "text": [
      "/tmp/ipykernel_19382/1792909790.py:1: SettingWithCopyWarning: \n",
      "A value is trying to be set on a copy of a slice from a DataFrame.\n",
      "Try using .loc[row_indexer,col_indexer] = value instead\n",
      "\n",
      "See the caveats in the documentation: https://pandas.pydata.org/pandas-docs/stable/user_guide/indexing.html#returning-a-view-versus-a-copy\n",
      "  fd2['rooms_qnty'] = fd2['rooms_qnty'].fillna('1')\n",
      "/tmp/ipykernel_19382/1792909790.py:2: SettingWithCopyWarning: \n",
      "A value is trying to be set on a copy of a slice from a DataFrame.\n",
      "Try using .loc[row_indexer,col_indexer] = value instead\n",
      "\n",
      "See the caveats in the documentation: https://pandas.pydata.org/pandas-docs/stable/user_guide/indexing.html#returning-a-view-versus-a-copy\n",
      "  fd2['rooms_qnty'] = fd2['rooms_qnty'].apply(lambda x: x[0])\n"
     ]
    }
   ],
   "source": [
    "fd2['rooms_qnty'] = fd2['rooms_qnty'].fillna('1')\n",
    "fd2['rooms_qnty'] = fd2['rooms_qnty'].apply(lambda x: x[0])"
   ]
  },
  {
   "cell_type": "code",
   "execution_count": 574,
   "id": "3be2d73b-ffe3-42c9-a195-9be1875a9317",
   "metadata": {},
   "outputs": [
    {
     "name": "stderr",
     "output_type": "stream",
     "text": [
      "/tmp/ipykernel_19382/4088699880.py:1: SettingWithCopyWarning: \n",
      "A value is trying to be set on a copy of a slice from a DataFrame.\n",
      "Try using .loc[row_indexer,col_indexer] = value instead\n",
      "\n",
      "See the caveats in the documentation: https://pandas.pydata.org/pandas-docs/stable/user_guide/indexing.html#returning-a-view-versus-a-copy\n",
      "  fd2['rooms_qnty']=fd2['rooms_qnty'].astype(int)\n"
     ]
    }
   ],
   "source": [
    "fd2['rooms_qnty']=fd2['rooms_qnty'].astype(int)"
   ]
  },
  {
   "cell_type": "code",
   "execution_count": 575,
   "id": "82d4ea43-969e-4f56-be42-8055dde8e293",
   "metadata": {},
   "outputs": [
    {
     "name": "stderr",
     "output_type": "stream",
     "text": [
      "/tmp/ipykernel_19382/2597952857.py:1: SettingWithCopyWarning: \n",
      "A value is trying to be set on a copy of a slice from a DataFrame.\n",
      "Try using .loc[row_indexer,col_indexer] = value instead\n",
      "\n",
      "See the caveats in the documentation: https://pandas.pydata.org/pandas-docs/stable/user_guide/indexing.html#returning-a-view-versus-a-copy\n",
      "  fd2['metro_station_rating'] = fd2['metro_station_rating'].fillna(1.0)\n"
     ]
    }
   ],
   "source": [
    "fd2['metro_station_rating'] = fd2['metro_station_rating'].fillna(1.0)"
   ]
  },
  {
   "cell_type": "code",
   "execution_count": 576,
   "id": "4d7322f4-fd25-41ad-84e7-fc0bb20617c0",
   "metadata": {},
   "outputs": [
    {
     "name": "stderr",
     "output_type": "stream",
     "text": [
      "/tmp/ipykernel_19382/946732333.py:1: SettingWithCopyWarning: \n",
      "A value is trying to be set on a copy of a slice from a DataFrame.\n",
      "Try using .loc[row_indexer,col_indexer] = value instead\n",
      "\n",
      "See the caveats in the documentation: https://pandas.pydata.org/pandas-docs/stable/user_guide/indexing.html#returning-a-view-versus-a-copy\n",
      "  fd2['metro_station_rating'] = fd2['metro_station_rating'].astype(int)\n"
     ]
    }
   ],
   "source": [
    "fd2['metro_station_rating'] = fd2['metro_station_rating'].astype(int)"
   ]
  },
  {
   "cell_type": "code",
   "execution_count": 577,
   "id": "5d3fcc7b-ba19-40bc-a96c-046a06d84fe9",
   "metadata": {},
   "outputs": [
    {
     "name": "stderr",
     "output_type": "stream",
     "text": [
      "/tmp/ipykernel_19382/2700113568.py:1: SettingWithCopyWarning: \n",
      "A value is trying to be set on a copy of a slice from a DataFrame.\n",
      "Try using .loc[row_indexer,col_indexer] = value instead\n",
      "\n",
      "See the caveats in the documentation: https://pandas.pydata.org/pandas-docs/stable/user_guide/indexing.html#returning-a-view-versus-a-copy\n",
      "  fd2['metro_station_rating'] = fd2['metro_station_rating'].fillna(1.0)\n",
      "/tmp/ipykernel_19382/2700113568.py:2: SettingWithCopyWarning: \n",
      "A value is trying to be set on a copy of a slice from a DataFrame.\n",
      "Try using .loc[row_indexer,col_indexer] = value instead\n",
      "\n",
      "See the caveats in the documentation: https://pandas.pydata.org/pandas-docs/stable/user_guide/indexing.html#returning-a-view-versus-a-copy\n",
      "  fd2['metro_station_rating'] = fd2['metro_station_rating'].astype(int)\n"
     ]
    }
   ],
   "source": [
    "fd2['metro_station_rating'] = fd2['metro_station_rating'].fillna(1.0)\n",
    "fd2['metro_station_rating'] = fd2['metro_station_rating'].astype(int)"
   ]
  },
  {
   "cell_type": "code",
   "execution_count": 578,
   "id": "a0a95720-a59e-4e94-8073-c3dd7edf277c",
   "metadata": {},
   "outputs": [
    {
     "name": "stderr",
     "output_type": "stream",
     "text": [
      "/tmp/ipykernel_19382/2379594445.py:2: SettingWithCopyWarning: \n",
      "A value is trying to be set on a copy of a slice from a DataFrame.\n",
      "Try using .loc[row_indexer,col_indexer] = value instead\n",
      "\n",
      "See the caveats in the documentation: https://pandas.pydata.org/pandas-docs/stable/user_guide/indexing.html#returning-a-view-versus-a-copy\n",
      "  fd2['time_to_metro'] = fd2['time_to_metro'].fillna(mean_min)\n",
      "/tmp/ipykernel_19382/2379594445.py:3: SettingWithCopyWarning: \n",
      "A value is trying to be set on a copy of a slice from a DataFrame.\n",
      "Try using .loc[row_indexer,col_indexer] = value instead\n",
      "\n",
      "See the caveats in the documentation: https://pandas.pydata.org/pandas-docs/stable/user_guide/indexing.html#returning-a-view-versus-a-copy\n",
      "  fd2['time_to_metro'] = fd2['time_to_metro'].astype(int)\n"
     ]
    }
   ],
   "source": [
    "mean_min = fd2['time_to_metro'].mean()\n",
    "fd2['time_to_metro'] = fd2['time_to_metro'].fillna(mean_min)\n",
    "fd2['time_to_metro'] = fd2['time_to_metro'].astype(int)"
   ]
  },
  {
   "cell_type": "code",
   "execution_count": 579,
   "id": "e46f7128-cbe3-4ead-9157-bc304bcc29bf",
   "metadata": {},
   "outputs": [
    {
     "name": "stderr",
     "output_type": "stream",
     "text": [
      "/tmp/ipykernel_19382/3939363836.py:1: SettingWithCopyWarning: \n",
      "A value is trying to be set on a copy of a slice from a DataFrame.\n",
      "Try using .loc[row_indexer,col_indexer] = value instead\n",
      "\n",
      "See the caveats in the documentation: https://pandas.pydata.org/pandas-docs/stable/user_guide/indexing.html#returning-a-view-versus-a-copy\n",
      "  fd2['apart_area'] = fd2['apart_area'].astype(float)\n",
      "/tmp/ipykernel_19382/3939363836.py:3: SettingWithCopyWarning: \n",
      "A value is trying to be set on a copy of a slice from a DataFrame.\n",
      "Try using .loc[row_indexer,col_indexer] = value instead\n",
      "\n",
      "See the caveats in the documentation: https://pandas.pydata.org/pandas-docs/stable/user_guide/indexing.html#returning-a-view-versus-a-copy\n",
      "  fd2['apart_area'] = fd2['apart_area'].fillna(mean_apart)\n",
      "/tmp/ipykernel_19382/3939363836.py:4: SettingWithCopyWarning: \n",
      "A value is trying to be set on a copy of a slice from a DataFrame.\n",
      "Try using .loc[row_indexer,col_indexer] = value instead\n",
      "\n",
      "See the caveats in the documentation: https://pandas.pydata.org/pandas-docs/stable/user_guide/indexing.html#returning-a-view-versus-a-copy\n",
      "  fd2['apart_area'] = fd2['apart_area'].astype(int)\n"
     ]
    }
   ],
   "source": [
    "fd2['apart_area'] = fd2['apart_area'].astype(float)\n",
    "mean_apart = fd2['apart_area'].mean()\n",
    "fd2['apart_area'] = fd2['apart_area'].fillna(mean_apart)\n",
    "fd2['apart_area'] = fd2['apart_area'].astype(int)"
   ]
  },
  {
   "cell_type": "code",
   "execution_count": 580,
   "id": "a54edfdc-166d-417e-aef1-55f014ab5f9a",
   "metadata": {},
   "outputs": [
    {
     "name": "stderr",
     "output_type": "stream",
     "text": [
      "/tmp/ipykernel_19382/1966969049.py:1: SettingWithCopyWarning: \n",
      "A value is trying to be set on a copy of a slice from a DataFrame.\n",
      "Try using .loc[row_indexer,col_indexer] = value instead\n",
      "\n",
      "See the caveats in the documentation: https://pandas.pydata.org/pandas-docs/stable/user_guide/indexing.html#returning-a-view-versus-a-copy\n",
      "  fd2['ceil_height'] = fd2['ceil_height'].astype(float)\n",
      "/tmp/ipykernel_19382/1966969049.py:3: SettingWithCopyWarning: \n",
      "A value is trying to be set on a copy of a slice from a DataFrame.\n",
      "Try using .loc[row_indexer,col_indexer] = value instead\n",
      "\n",
      "See the caveats in the documentation: https://pandas.pydata.org/pandas-docs/stable/user_guide/indexing.html#returning-a-view-versus-a-copy\n",
      "  fd2['ceil_height'] = fd2['ceil_height'].fillna(round(mean_ceil,2))\n",
      "/tmp/ipykernel_19382/1966969049.py:4: SettingWithCopyWarning: \n",
      "A value is trying to be set on a copy of a slice from a DataFrame.\n",
      "Try using .loc[row_indexer,col_indexer] = value instead\n",
      "\n",
      "See the caveats in the documentation: https://pandas.pydata.org/pandas-docs/stable/user_guide/indexing.html#returning-a-view-versus-a-copy\n",
      "  fd2['ceil_height'] = fd2['ceil_height'].astype(float)\n"
     ]
    }
   ],
   "source": [
    "fd2['ceil_height'] = fd2['ceil_height'].astype(float)\n",
    "mean_ceil = fd2['ceil_height'].mean()\n",
    "fd2['ceil_height'] = fd2['ceil_height'].fillna(round(mean_ceil,2))\n",
    "fd2['ceil_height'] = fd2['ceil_height'].astype(float)"
   ]
  },
  {
   "cell_type": "code",
   "execution_count": 581,
   "id": "71219db0-637c-48c1-864d-23ea8c0acea8",
   "metadata": {},
   "outputs": [
    {
     "name": "stderr",
     "output_type": "stream",
     "text": [
      "/tmp/ipykernel_19382/3506276455.py:1: SettingWithCopyWarning: \n",
      "A value is trying to be set on a copy of a slice from a DataFrame.\n",
      "Try using .loc[row_indexer,col_indexer] = value instead\n",
      "\n",
      "See the caveats in the documentation: https://pandas.pydata.org/pandas-docs/stable/user_guide/indexing.html#returning-a-view-versus-a-copy\n",
      "  fd2['house_type'] = fd2['house_type'].fillna(0)\n",
      "/tmp/ipykernel_19382/3506276455.py:2: SettingWithCopyWarning: \n",
      "A value is trying to be set on a copy of a slice from a DataFrame.\n",
      "Try using .loc[row_indexer,col_indexer] = value instead\n",
      "\n",
      "See the caveats in the documentation: https://pandas.pydata.org/pandas-docs/stable/user_guide/indexing.html#returning-a-view-versus-a-copy\n",
      "  fd2['house_type'] = fd2['house_type'].astype(int)\n"
     ]
    }
   ],
   "source": [
    "fd2['house_type'] = fd2['house_type'].fillna(0)\n",
    "fd2['house_type'] = fd2['house_type'].astype(int)"
   ]
  },
  {
   "cell_type": "code",
   "execution_count": 583,
   "id": "5a66a810-6378-4ca1-b003-16dd6ca2efcb",
   "metadata": {},
   "outputs": [
    {
     "name": "stderr",
     "output_type": "stream",
     "text": [
      "/tmp/ipykernel_19382/1668055635.py:1: SettingWithCopyWarning: \n",
      "A value is trying to be set on a copy of a slice from a DataFrame.\n",
      "Try using .loc[row_indexer,col_indexer] = value instead\n",
      "\n",
      "See the caveats in the documentation: https://pandas.pydata.org/pandas-docs/stable/user_guide/indexing.html#returning-a-view-versus-a-copy\n",
      "  fd2['parking'] = fd2['parking'].apply(lambda x: 1 if pd.notna(x) else 0)\n"
     ]
    }
   ],
   "source": [
    "fd2['parking'] = fd2['parking'].apply(lambda x: 1 if pd.notna(x) else 0)"
   ]
  },
  {
   "cell_type": "code",
   "execution_count": 584,
   "id": "cdf42ed6-d3de-4ccd-8c1c-d18d7553fcc9",
   "metadata": {},
   "outputs": [
    {
     "name": "stderr",
     "output_type": "stream",
     "text": [
      "/tmp/ipykernel_19382/2568357567.py:1: SettingWithCopyWarning: \n",
      "A value is trying to be set on a copy of a slice from a DataFrame.\n",
      "Try using .loc[row_indexer,col_indexer] = value instead\n",
      "\n",
      "See the caveats in the documentation: https://pandas.pydata.org/pandas-docs/stable/user_guide/indexing.html#returning-a-view-versus-a-copy\n",
      "  fd2['Unnamed_0'] = fd2['Unnamed_0'].astype(int)\n",
      "/tmp/ipykernel_19382/2568357567.py:2: SettingWithCopyWarning: \n",
      "A value is trying to be set on a copy of a slice from a DataFrame.\n",
      "Try using .loc[row_indexer,col_indexer] = value instead\n",
      "\n",
      "See the caveats in the documentation: https://pandas.pydata.org/pandas-docs/stable/user_guide/indexing.html#returning-a-view-versus-a-copy\n",
      "  fd2['ID'] = fd2['ID'].astype(int)\n"
     ]
    }
   ],
   "source": [
    "fd2['Unnamed_0'] = fd2['Unnamed_0'].astype(int)\n",
    "fd2['ID'] = fd2['ID'].astype(int)"
   ]
  },
  {
   "cell_type": "code",
   "execution_count": 585,
   "id": "9446ed5b-8cb2-41fe-b7b3-5a4c392df0e4",
   "metadata": {},
   "outputs": [
    {
     "name": "stderr",
     "output_type": "stream",
     "text": [
      "/tmp/ipykernel_19382/4184427418.py:1: SettingWithCopyWarning: \n",
      "A value is trying to be set on a copy of a slice from a DataFrame.\n",
      "Try using .loc[row_indexer,col_indexer] = value instead\n",
      "\n",
      "See the caveats in the documentation: https://pandas.pydata.org/pandas-docs/stable/user_guide/indexing.html#returning-a-view-versus-a-copy\n",
      "  fd2['elevator'] = fd2['elevator'].apply(lambda x: 1 if pd.notna(x) else 0)\n"
     ]
    }
   ],
   "source": [
    "fd2['elevator'] = fd2['elevator'].apply(lambda x: 1 if pd.notna(x) else 0)"
   ]
  },
  {
   "cell_type": "code",
   "execution_count": 586,
   "id": "b3e368fd-b0d7-4d95-827e-3288ae2bc3b8",
   "metadata": {},
   "outputs": [
    {
     "name": "stderr",
     "output_type": "stream",
     "text": [
      "/tmp/ipykernel_19382/3204160839.py:1: FutureWarning: Downcasting object dtype arrays on .fillna, .ffill, .bfill is deprecated and will change in a future version. Call result.infer_objects(copy=False) instead. To opt-in to the future behavior, set `pd.set_option('future.no_silent_downcasting', True)`\n",
      "  fd2['room_furn'] = fd2['room_furn'].fillna(0)\n",
      "/tmp/ipykernel_19382/3204160839.py:1: SettingWithCopyWarning: \n",
      "A value is trying to be set on a copy of a slice from a DataFrame.\n",
      "Try using .loc[row_indexer,col_indexer] = value instead\n",
      "\n",
      "See the caveats in the documentation: https://pandas.pydata.org/pandas-docs/stable/user_guide/indexing.html#returning-a-view-versus-a-copy\n",
      "  fd2['room_furn'] = fd2['room_furn'].fillna(0)\n",
      "/tmp/ipykernel_19382/3204160839.py:2: FutureWarning: Downcasting object dtype arrays on .fillna, .ffill, .bfill is deprecated and will change in a future version. Call result.infer_objects(copy=False) instead. To opt-in to the future behavior, set `pd.set_option('future.no_silent_downcasting', True)`\n",
      "  fd2['kitch_furn'] = fd2['kitch_furn'].fillna(0)\n",
      "/tmp/ipykernel_19382/3204160839.py:2: SettingWithCopyWarning: \n",
      "A value is trying to be set on a copy of a slice from a DataFrame.\n",
      "Try using .loc[row_indexer,col_indexer] = value instead\n",
      "\n",
      "See the caveats in the documentation: https://pandas.pydata.org/pandas-docs/stable/user_guide/indexing.html#returning-a-view-versus-a-copy\n",
      "  fd2['kitch_furn'] = fd2['kitch_furn'].fillna(0)\n",
      "/tmp/ipykernel_19382/3204160839.py:3: FutureWarning: Downcasting object dtype arrays on .fillna, .ffill, .bfill is deprecated and will change in a future version. Call result.infer_objects(copy=False) instead. To opt-in to the future behavior, set `pd.set_option('future.no_silent_downcasting', True)`\n",
      "  fd2['fridge'] = fd2['fridge'].fillna(0)\n",
      "/tmp/ipykernel_19382/3204160839.py:3: SettingWithCopyWarning: \n",
      "A value is trying to be set on a copy of a slice from a DataFrame.\n",
      "Try using .loc[row_indexer,col_indexer] = value instead\n",
      "\n",
      "See the caveats in the documentation: https://pandas.pydata.org/pandas-docs/stable/user_guide/indexing.html#returning-a-view-versus-a-copy\n",
      "  fd2['fridge'] = fd2['fridge'].fillna(0)\n",
      "/tmp/ipykernel_19382/3204160839.py:4: FutureWarning: Downcasting object dtype arrays on .fillna, .ffill, .bfill is deprecated and will change in a future version. Call result.infer_objects(copy=False) instead. To opt-in to the future behavior, set `pd.set_option('future.no_silent_downcasting', True)`\n",
      "  fd2['washing_mach'] = fd2['washing_mach'].fillna(0)\n",
      "/tmp/ipykernel_19382/3204160839.py:4: SettingWithCopyWarning: \n",
      "A value is trying to be set on a copy of a slice from a DataFrame.\n",
      "Try using .loc[row_indexer,col_indexer] = value instead\n",
      "\n",
      "See the caveats in the documentation: https://pandas.pydata.org/pandas-docs/stable/user_guide/indexing.html#returning-a-view-versus-a-copy\n",
      "  fd2['washing_mach'] = fd2['washing_mach'].fillna(0)\n",
      "/tmp/ipykernel_19382/3204160839.py:5: FutureWarning: Downcasting object dtype arrays on .fillna, .ffill, .bfill is deprecated and will change in a future version. Call result.infer_objects(copy=False) instead. To opt-in to the future behavior, set `pd.set_option('future.no_silent_downcasting', True)`\n",
      "  fd2['internet'] = fd2['internet'].fillna(0)\n",
      "/tmp/ipykernel_19382/3204160839.py:5: SettingWithCopyWarning: \n",
      "A value is trying to be set on a copy of a slice from a DataFrame.\n",
      "Try using .loc[row_indexer,col_indexer] = value instead\n",
      "\n",
      "See the caveats in the documentation: https://pandas.pydata.org/pandas-docs/stable/user_guide/indexing.html#returning-a-view-versus-a-copy\n",
      "  fd2['internet'] = fd2['internet'].fillna(0)\n"
     ]
    }
   ],
   "source": [
    "fd2['room_furn'] = fd2['room_furn'].fillna(0)\n",
    "fd2['kitch_furn'] = fd2['kitch_furn'].fillna(0)\n",
    "fd2['fridge'] = fd2['fridge'].fillna(0)\n",
    "fd2['washing_mach'] = fd2['washing_mach'].fillna(0)\n",
    "fd2['internet'] = fd2['internet'].fillna(0)"
   ]
  },
  {
   "cell_type": "code",
   "execution_count": 587,
   "id": "5c842218-5a95-42b2-95ee-e2ed861f197b",
   "metadata": {},
   "outputs": [
    {
     "name": "stderr",
     "output_type": "stream",
     "text": [
      "/tmp/ipykernel_19382/3459013606.py:9: SettingWithCopyWarning: \n",
      "A value is trying to be set on a copy of a slice from a DataFrame.\n",
      "Try using .loc[row_indexer,col_indexer] = value instead\n",
      "\n",
      "See the caveats in the documentation: https://pandas.pydata.org/pandas-docs/stable/user_guide/indexing.html#returning-a-view-versus-a-copy\n",
      "  fd2['price']=fd2['price'].apply(price_r)\n"
     ]
    }
   ],
   "source": [
    "def price_r(g):\n",
    "    pr=''\n",
    "    for i in range(0,len(g)):\n",
    "        if g[i].isdigit()==True:\n",
    "            pr+=g[i]\n",
    "        else:\n",
    "            break\n",
    "    return int(pr)\n",
    "fd2['price']=fd2['price'].apply(price_r)"
   ]
  },
  {
   "cell_type": "markdown",
   "id": "d8b8cfd2-be9c-48b1-a147-6c2020140bfb",
   "metadata": {},
   "source": [
    "Ремонт ( Без ремонта заменяем на 0, косметический - 1, евро - 2, дизайнерский - 3. Пропуск - 1; repairs"
   ]
  },
  {
   "cell_type": "code",
   "execution_count": 588,
   "id": "60175a9b-992c-4fe8-963c-f6d1f0d6287e",
   "metadata": {},
   "outputs": [
    {
     "name": "stderr",
     "output_type": "stream",
     "text": [
      "/tmp/ipykernel_19382/3797063802.py:8: SettingWithCopyWarning: \n",
      "A value is trying to be set on a copy of a slice from a DataFrame.\n",
      "Try using .loc[row_indexer,col_indexer] = value instead\n",
      "\n",
      "See the caveats in the documentation: https://pandas.pydata.org/pandas-docs/stable/user_guide/indexing.html#returning-a-view-versus-a-copy\n",
      "  fd2['repairs']=fd2['repairs'].loc[fd2['repairs'].isnull()==False].apply(repairs)\n",
      "/tmp/ipykernel_19382/3797063802.py:9: SettingWithCopyWarning: \n",
      "A value is trying to be set on a copy of a slice from a DataFrame.\n",
      "Try using .loc[row_indexer,col_indexer] = value instead\n",
      "\n",
      "See the caveats in the documentation: https://pandas.pydata.org/pandas-docs/stable/user_guide/indexing.html#returning-a-view-versus-a-copy\n",
      "  fd2['repairs'] = fd2['repairs'].fillna(1)\n",
      "/tmp/ipykernel_19382/3797063802.py:10: SettingWithCopyWarning: \n",
      "A value is trying to be set on a copy of a slice from a DataFrame.\n",
      "Try using .loc[row_indexer,col_indexer] = value instead\n",
      "\n",
      "See the caveats in the documentation: https://pandas.pydata.org/pandas-docs/stable/user_guide/indexing.html#returning-a-view-versus-a-copy\n",
      "  fd2['repairs'] = fd2['repairs'].astype(int)\n"
     ]
    }
   ],
   "source": [
    "def repairs(r):\n",
    "    d_repairs={'Без ремонта':0,'Косметический':1,'Евроремонт':2, 'Дизайнерский':3}\n",
    "    if r in d_repairs.keys():\n",
    "        return d_repairs[r]\n",
    "    else:\n",
    "        return None\n",
    "\n",
    "fd2['repairs']=fd2['repairs'].loc[fd2['repairs'].isnull()==False].apply(repairs)\n",
    "fd2['repairs'] = fd2['repairs'].fillna(1)\n",
    "fd2['repairs'] = fd2['repairs'].astype(int)"
   ]
  },
  {
   "cell_type": "code",
   "execution_count": 589,
   "id": "2b9e7e08-90d7-4c73-b045-83e8f5f4751d",
   "metadata": {},
   "outputs": [
    {
     "name": "stderr",
     "output_type": "stream",
     "text": [
      "/tmp/ipykernel_19382/3258881342.py:8: SettingWithCopyWarning: \n",
      "A value is trying to be set on a copy of a slice from a DataFrame.\n",
      "Try using .loc[row_indexer,col_indexer] = value instead\n",
      "\n",
      "See the caveats in the documentation: https://pandas.pydata.org/pandas-docs/stable/user_guide/indexing.html#returning-a-view-versus-a-copy\n",
      "  fd2['animals_kids']=fd2['animals_kids'].loc[fd2['animals_kids'].isnull()==False].apply(zhiv_det)\n",
      "/tmp/ipykernel_19382/3258881342.py:9: SettingWithCopyWarning: \n",
      "A value is trying to be set on a copy of a slice from a DataFrame.\n",
      "Try using .loc[row_indexer,col_indexer] = value instead\n",
      "\n",
      "See the caveats in the documentation: https://pandas.pydata.org/pandas-docs/stable/user_guide/indexing.html#returning-a-view-versus-a-copy\n",
      "  fd2['animals_kids'] = fd2['animals_kids'].fillna(0)\n",
      "/tmp/ipykernel_19382/3258881342.py:10: SettingWithCopyWarning: \n",
      "A value is trying to be set on a copy of a slice from a DataFrame.\n",
      "Try using .loc[row_indexer,col_indexer] = value instead\n",
      "\n",
      "See the caveats in the documentation: https://pandas.pydata.org/pandas-docs/stable/user_guide/indexing.html#returning-a-view-versus-a-copy\n",
      "  fd2['animals_kids'] = fd2['animals_kids'].astype(int)\n"
     ]
    }
   ],
   "source": [
    "\n",
    "def zhiv_det(z):\n",
    "    d_allow={'Можно с детьми':1,'Можно с животными':1,'Можно с детьми, Можно с животными':2}\n",
    "    if z in d_allow.keys():\n",
    "        return d_allow[z]\n",
    "    else:\n",
    "        return None\n",
    "\n",
    "fd2['animals_kids']=fd2['animals_kids'].loc[fd2['animals_kids'].isnull()==False].apply(zhiv_det)\n",
    "fd2['animals_kids'] = fd2['animals_kids'].fillna(0)\n",
    "fd2['animals_kids'] = fd2['animals_kids'].astype(int)"
   ]
  },
  {
   "cell_type": "code",
   "execution_count": 590,
   "id": "0d88f6eb-69e3-4ca2-bb65-c125fc1229e4",
   "metadata": {},
   "outputs": [
    {
     "name": "stderr",
     "output_type": "stream",
     "text": [
      "/tmp/ipykernel_19382/1996429952.py:1: SettingWithCopyWarning: \n",
      "A value is trying to be set on a copy of a slice from a DataFrame.\n",
      "Try using .loc[row_indexer,col_indexer] = value instead\n",
      "\n",
      "See the caveats in the documentation: https://pandas.pydata.org/pandas-docs/stable/user_guide/indexing.html#returning-a-view-versus-a-copy\n",
      "  fd2['balcony']= fd2['balcony'].str.replace('Балкон', '1')\n",
      "/tmp/ipykernel_19382/1996429952.py:2: SettingWithCopyWarning: \n",
      "A value is trying to be set on a copy of a slice from a DataFrame.\n",
      "Try using .loc[row_indexer,col_indexer] = value instead\n",
      "\n",
      "See the caveats in the documentation: https://pandas.pydata.org/pandas-docs/stable/user_guide/indexing.html#returning-a-view-versus-a-copy\n",
      "  fd2['balcony']= fd2['balcony'].str.replace('Лоджия', '2')\n",
      "/tmp/ipykernel_19382/1996429952.py:15: SettingWithCopyWarning: \n",
      "A value is trying to be set on a copy of a slice from a DataFrame.\n",
      "Try using .loc[row_indexer,col_indexer] = value instead\n",
      "\n",
      "See the caveats in the documentation: https://pandas.pydata.org/pandas-docs/stable/user_guide/indexing.html#returning-a-view-versus-a-copy\n",
      "  fd2['balcony']=fd2['balcony'].loc[fd2['balcony'].isnull()==False].apply(balc)\n",
      "/tmp/ipykernel_19382/1996429952.py:16: SettingWithCopyWarning: \n",
      "A value is trying to be set on a copy of a slice from a DataFrame.\n",
      "Try using .loc[row_indexer,col_indexer] = value instead\n",
      "\n",
      "See the caveats in the documentation: https://pandas.pydata.org/pandas-docs/stable/user_guide/indexing.html#returning-a-view-versus-a-copy\n",
      "  fd2['balcony'] = fd2['balcony'].fillna(0)\n",
      "/tmp/ipykernel_19382/1996429952.py:17: SettingWithCopyWarning: \n",
      "A value is trying to be set on a copy of a slice from a DataFrame.\n",
      "Try using .loc[row_indexer,col_indexer] = value instead\n",
      "\n",
      "See the caveats in the documentation: https://pandas.pydata.org/pandas-docs/stable/user_guide/indexing.html#returning-a-view-versus-a-copy\n",
      "  fd2['balcony'] = fd2['balcony'].astype(int)\n"
     ]
    }
   ],
   "source": [
    "fd2['balcony']= fd2['balcony'].str.replace('Балкон', '1')\n",
    "fd2['balcony']= fd2['balcony'].str.replace('Лоджия', '2')\n",
    "def balc(b):\n",
    "    list_numb=[]\n",
    "    for i in b:\n",
    "        if i.isdigit()==True:\n",
    "            list_numb.append(int(i))\n",
    "        else:\n",
    "            continue\n",
    "    if len(list_numb)>2:\n",
    "        return (list_numb[0]*list_numb[1]+list_numb[2]*list_numb[3])\n",
    "    else:\n",
    "        return (list_numb[0]*list_numb[1])\n",
    "\n",
    "fd2['balcony']=fd2['balcony'].loc[fd2['balcony'].isnull()==False].apply(balc)\n",
    "fd2['balcony'] = fd2['balcony'].fillna(0)\n",
    "fd2['balcony'] = fd2['balcony'].astype(int)"
   ]
  },
  {
   "cell_type": "code",
   "execution_count": 591,
   "id": "450c1a12-f27d-42f4-9c8f-5396987e7a49",
   "metadata": {},
   "outputs": [
    {
     "name": "stderr",
     "output_type": "stream",
     "text": [
      "/tmp/ipykernel_19382/3498914925.py:1: SettingWithCopyWarning: \n",
      "A value is trying to be set on a copy of a slice from a DataFrame.\n",
      "Try using .loc[row_indexer,col_indexer] = value instead\n",
      "\n",
      "See the caveats in the documentation: https://pandas.pydata.org/pandas-docs/stable/user_guide/indexing.html#returning-a-view-versus-a-copy\n",
      "  fd2['bathroom']= fd2['bathroom'].str.replace('Совмещенный', '1')\n",
      "/tmp/ipykernel_19382/3498914925.py:2: SettingWithCopyWarning: \n",
      "A value is trying to be set on a copy of a slice from a DataFrame.\n",
      "Try using .loc[row_indexer,col_indexer] = value instead\n",
      "\n",
      "See the caveats in the documentation: https://pandas.pydata.org/pandas-docs/stable/user_guide/indexing.html#returning-a-view-versus-a-copy\n",
      "  fd2['bathroom']= fd2['bathroom'].str.replace('Раздельный', '2')\n",
      "/tmp/ipykernel_19382/3498914925.py:15: SettingWithCopyWarning: \n",
      "A value is trying to be set on a copy of a slice from a DataFrame.\n",
      "Try using .loc[row_indexer,col_indexer] = value instead\n",
      "\n",
      "See the caveats in the documentation: https://pandas.pydata.org/pandas-docs/stable/user_guide/indexing.html#returning-a-view-versus-a-copy\n",
      "  fd2['bathroom']=fd2['bathroom'].loc[fd2['bathroom'].isnull()==False].apply(bath)\n",
      "/tmp/ipykernel_19382/3498914925.py:16: SettingWithCopyWarning: \n",
      "A value is trying to be set on a copy of a slice from a DataFrame.\n",
      "Try using .loc[row_indexer,col_indexer] = value instead\n",
      "\n",
      "See the caveats in the documentation: https://pandas.pydata.org/pandas-docs/stable/user_guide/indexing.html#returning-a-view-versus-a-copy\n",
      "  fd2['bathroom'] = fd2['bathroom'].fillna(0)\n",
      "/tmp/ipykernel_19382/3498914925.py:17: SettingWithCopyWarning: \n",
      "A value is trying to be set on a copy of a slice from a DataFrame.\n",
      "Try using .loc[row_indexer,col_indexer] = value instead\n",
      "\n",
      "See the caveats in the documentation: https://pandas.pydata.org/pandas-docs/stable/user_guide/indexing.html#returning-a-view-versus-a-copy\n",
      "  fd2['bathroom'] = fd2['bathroom'].astype(int)\n"
     ]
    }
   ],
   "source": [
    "fd2['bathroom']= fd2['bathroom'].str.replace('Совмещенный', '1')\n",
    "fd2['bathroom']= fd2['bathroom'].str.replace('Раздельный', '2')\n",
    "def bath(b):\n",
    "    list_numb=[]\n",
    "    for i in b:\n",
    "        if i.isdigit()==True:\n",
    "            list_numb.append(int(i))\n",
    "        else:\n",
    "            continue\n",
    "    if len(list_numb)>2:\n",
    "        return (list_numb[0]*list_numb[1]+list_numb[2]*list_numb[3])\n",
    "    else:\n",
    "        return (list_numb[0]*list_numb[1])\n",
    "\n",
    "fd2['bathroom']=fd2['bathroom'].loc[fd2['bathroom'].isnull()==False].apply(bath)\n",
    "fd2['bathroom'] = fd2['bathroom'].fillna(0)\n",
    "fd2['bathroom'] = fd2['bathroom'].astype(int)"
   ]
  },
  {
   "cell_type": "code",
   "execution_count": 595,
   "id": "1eccf631-797f-4d57-9c54-6870e5230b96",
   "metadata": {},
   "outputs": [
    {
     "name": "stdout",
     "output_type": "stream",
     "text": [
      "int64      20\n",
      "float64     1\n",
      "Name: count, dtype: int64\n"
     ]
    }
   ],
   "source": [
    "data_types_count = fd2.dtypes.value_counts()\n",
    "print(data_types_count)"
   ]
  },
  {
   "cell_type": "code",
   "execution_count": 596,
   "id": "60c3bdbe-3097-4ec9-9e6a-3dc754835480",
   "metadata": {},
   "outputs": [
    {
     "data": {
      "text/html": [
       "<div>\n",
       "<style scoped>\n",
       "    .dataframe tbody tr th:only-of-type {\n",
       "        vertical-align: middle;\n",
       "    }\n",
       "\n",
       "    .dataframe tbody tr th {\n",
       "        vertical-align: top;\n",
       "    }\n",
       "\n",
       "    .dataframe thead th {\n",
       "        text-align: right;\n",
       "    }\n",
       "</style>\n",
       "<table border=\"1\" class=\"dataframe\">\n",
       "  <thead>\n",
       "    <tr style=\"text-align: right;\">\n",
       "      <th></th>\n",
       "      <th>Unnamed_0</th>\n",
       "      <th>ID</th>\n",
       "      <th>rooms_qnty</th>\n",
       "      <th>metro_station_rating</th>\n",
       "      <th>time_to_metro</th>\n",
       "      <th>apart_area</th>\n",
       "      <th>floor</th>\n",
       "      <th>house_type</th>\n",
       "      <th>parking</th>\n",
       "      <th>price</th>\n",
       "      <th>...</th>\n",
       "      <th>balcony</th>\n",
       "      <th>bathroom</th>\n",
       "      <th>animals_kids</th>\n",
       "      <th>room_furn</th>\n",
       "      <th>kitch_furn</th>\n",
       "      <th>fridge</th>\n",
       "      <th>washing_mach</th>\n",
       "      <th>internet</th>\n",
       "      <th>ceil_height</th>\n",
       "      <th>elevator</th>\n",
       "    </tr>\n",
       "  </thead>\n",
       "  <tbody>\n",
       "    <tr>\n",
       "      <th>11684</th>\n",
       "      <td>11684</td>\n",
       "      <td>272193789</td>\n",
       "      <td>1</td>\n",
       "      <td>2</td>\n",
       "      <td>4</td>\n",
       "      <td>35</td>\n",
       "      <td>3</td>\n",
       "      <td>1</td>\n",
       "      <td>0</td>\n",
       "      <td>38000</td>\n",
       "      <td>...</td>\n",
       "      <td>1</td>\n",
       "      <td>1</td>\n",
       "      <td>0</td>\n",
       "      <td>1</td>\n",
       "      <td>1</td>\n",
       "      <td>1</td>\n",
       "      <td>1</td>\n",
       "      <td>0</td>\n",
       "      <td>2.64</td>\n",
       "      <td>0</td>\n",
       "    </tr>\n",
       "    <tr>\n",
       "      <th>11685</th>\n",
       "      <td>11685</td>\n",
       "      <td>274312075</td>\n",
       "      <td>1</td>\n",
       "      <td>2</td>\n",
       "      <td>13</td>\n",
       "      <td>35</td>\n",
       "      <td>2</td>\n",
       "      <td>2</td>\n",
       "      <td>0</td>\n",
       "      <td>39000</td>\n",
       "      <td>...</td>\n",
       "      <td>0</td>\n",
       "      <td>1</td>\n",
       "      <td>2</td>\n",
       "      <td>1</td>\n",
       "      <td>0</td>\n",
       "      <td>0</td>\n",
       "      <td>1</td>\n",
       "      <td>1</td>\n",
       "      <td>2.89</td>\n",
       "      <td>0</td>\n",
       "    </tr>\n",
       "    <tr>\n",
       "      <th>11686</th>\n",
       "      <td>11686</td>\n",
       "      <td>275005461</td>\n",
       "      <td>1</td>\n",
       "      <td>2</td>\n",
       "      <td>10</td>\n",
       "      <td>35</td>\n",
       "      <td>4</td>\n",
       "      <td>1</td>\n",
       "      <td>0</td>\n",
       "      <td>40000</td>\n",
       "      <td>...</td>\n",
       "      <td>1</td>\n",
       "      <td>1</td>\n",
       "      <td>1</td>\n",
       "      <td>1</td>\n",
       "      <td>0</td>\n",
       "      <td>0</td>\n",
       "      <td>1</td>\n",
       "      <td>1</td>\n",
       "      <td>2.60</td>\n",
       "      <td>0</td>\n",
       "    </tr>\n",
       "    <tr>\n",
       "      <th>11687</th>\n",
       "      <td>11687</td>\n",
       "      <td>274845410</td>\n",
       "      <td>1</td>\n",
       "      <td>2</td>\n",
       "      <td>5</td>\n",
       "      <td>34</td>\n",
       "      <td>3</td>\n",
       "      <td>1</td>\n",
       "      <td>0</td>\n",
       "      <td>40000</td>\n",
       "      <td>...</td>\n",
       "      <td>1</td>\n",
       "      <td>1</td>\n",
       "      <td>2</td>\n",
       "      <td>1</td>\n",
       "      <td>0</td>\n",
       "      <td>0</td>\n",
       "      <td>1</td>\n",
       "      <td>1</td>\n",
       "      <td>2.50</td>\n",
       "      <td>0</td>\n",
       "    </tr>\n",
       "    <tr>\n",
       "      <th>11688</th>\n",
       "      <td>11688</td>\n",
       "      <td>273057169</td>\n",
       "      <td>1</td>\n",
       "      <td>2</td>\n",
       "      <td>7</td>\n",
       "      <td>32</td>\n",
       "      <td>1</td>\n",
       "      <td>1</td>\n",
       "      <td>0</td>\n",
       "      <td>40000</td>\n",
       "      <td>...</td>\n",
       "      <td>0</td>\n",
       "      <td>1</td>\n",
       "      <td>2</td>\n",
       "      <td>1</td>\n",
       "      <td>0</td>\n",
       "      <td>0</td>\n",
       "      <td>1</td>\n",
       "      <td>1</td>\n",
       "      <td>2.60</td>\n",
       "      <td>0</td>\n",
       "    </tr>\n",
       "    <tr>\n",
       "      <th>...</th>\n",
       "      <td>...</td>\n",
       "      <td>...</td>\n",
       "      <td>...</td>\n",
       "      <td>...</td>\n",
       "      <td>...</td>\n",
       "      <td>...</td>\n",
       "      <td>...</td>\n",
       "      <td>...</td>\n",
       "      <td>...</td>\n",
       "      <td>...</td>\n",
       "      <td>...</td>\n",
       "      <td>...</td>\n",
       "      <td>...</td>\n",
       "      <td>...</td>\n",
       "      <td>...</td>\n",
       "      <td>...</td>\n",
       "      <td>...</td>\n",
       "      <td>...</td>\n",
       "      <td>...</td>\n",
       "      <td>...</td>\n",
       "      <td>...</td>\n",
       "    </tr>\n",
       "    <tr>\n",
       "      <th>23363</th>\n",
       "      <td>23363</td>\n",
       "      <td>215565511</td>\n",
       "      <td>1</td>\n",
       "      <td>0</td>\n",
       "      <td>8</td>\n",
       "      <td>35</td>\n",
       "      <td>10</td>\n",
       "      <td>0</td>\n",
       "      <td>0</td>\n",
       "      <td>42000</td>\n",
       "      <td>...</td>\n",
       "      <td>1</td>\n",
       "      <td>1</td>\n",
       "      <td>0</td>\n",
       "      <td>1</td>\n",
       "      <td>1</td>\n",
       "      <td>1</td>\n",
       "      <td>1</td>\n",
       "      <td>1</td>\n",
       "      <td>2.89</td>\n",
       "      <td>1</td>\n",
       "    </tr>\n",
       "    <tr>\n",
       "      <th>23364</th>\n",
       "      <td>23364</td>\n",
       "      <td>274654844</td>\n",
       "      <td>1</td>\n",
       "      <td>1</td>\n",
       "      <td>7</td>\n",
       "      <td>38</td>\n",
       "      <td>5</td>\n",
       "      <td>4</td>\n",
       "      <td>0</td>\n",
       "      <td>45000</td>\n",
       "      <td>...</td>\n",
       "      <td>2</td>\n",
       "      <td>1</td>\n",
       "      <td>0</td>\n",
       "      <td>1</td>\n",
       "      <td>1</td>\n",
       "      <td>1</td>\n",
       "      <td>1</td>\n",
       "      <td>0</td>\n",
       "      <td>2.89</td>\n",
       "      <td>1</td>\n",
       "    </tr>\n",
       "    <tr>\n",
       "      <th>23365</th>\n",
       "      <td>23365</td>\n",
       "      <td>268679909</td>\n",
       "      <td>2</td>\n",
       "      <td>1</td>\n",
       "      <td>6</td>\n",
       "      <td>43</td>\n",
       "      <td>5</td>\n",
       "      <td>2</td>\n",
       "      <td>0</td>\n",
       "      <td>50000</td>\n",
       "      <td>...</td>\n",
       "      <td>1</td>\n",
       "      <td>1</td>\n",
       "      <td>1</td>\n",
       "      <td>0</td>\n",
       "      <td>1</td>\n",
       "      <td>1</td>\n",
       "      <td>1</td>\n",
       "      <td>1</td>\n",
       "      <td>2.89</td>\n",
       "      <td>0</td>\n",
       "    </tr>\n",
       "    <tr>\n",
       "      <th>23366</th>\n",
       "      <td>23366</td>\n",
       "      <td>274807525</td>\n",
       "      <td>2</td>\n",
       "      <td>1</td>\n",
       "      <td>11</td>\n",
       "      <td>52</td>\n",
       "      <td>8</td>\n",
       "      <td>4</td>\n",
       "      <td>1</td>\n",
       "      <td>55000</td>\n",
       "      <td>...</td>\n",
       "      <td>2</td>\n",
       "      <td>3</td>\n",
       "      <td>0</td>\n",
       "      <td>1</td>\n",
       "      <td>1</td>\n",
       "      <td>1</td>\n",
       "      <td>1</td>\n",
       "      <td>0</td>\n",
       "      <td>2.65</td>\n",
       "      <td>1</td>\n",
       "    </tr>\n",
       "    <tr>\n",
       "      <th>23367</th>\n",
       "      <td>23367</td>\n",
       "      <td>274672243</td>\n",
       "      <td>2</td>\n",
       "      <td>0</td>\n",
       "      <td>10</td>\n",
       "      <td>90</td>\n",
       "      <td>6</td>\n",
       "      <td>1</td>\n",
       "      <td>0</td>\n",
       "      <td>57000</td>\n",
       "      <td>...</td>\n",
       "      <td>2</td>\n",
       "      <td>2</td>\n",
       "      <td>2</td>\n",
       "      <td>1</td>\n",
       "      <td>1</td>\n",
       "      <td>1</td>\n",
       "      <td>1</td>\n",
       "      <td>1</td>\n",
       "      <td>2.89</td>\n",
       "      <td>1</td>\n",
       "    </tr>\n",
       "  </tbody>\n",
       "</table>\n",
       "<p>11684 rows × 21 columns</p>\n",
       "</div>"
      ],
      "text/plain": [
       "       Unnamed_0         ID  rooms_qnty  metro_station_rating  time_to_metro  \\\n",
       "11684      11684  272193789           1                     2              4   \n",
       "11685      11685  274312075           1                     2             13   \n",
       "11686      11686  275005461           1                     2             10   \n",
       "11687      11687  274845410           1                     2              5   \n",
       "11688      11688  273057169           1                     2              7   \n",
       "...          ...        ...         ...                   ...            ...   \n",
       "23363      23363  215565511           1                     0              8   \n",
       "23364      23364  274654844           1                     1              7   \n",
       "23365      23365  268679909           2                     1              6   \n",
       "23366      23366  274807525           2                     1             11   \n",
       "23367      23367  274672243           2                     0             10   \n",
       "\n",
       "       apart_area  floor  house_type  parking  price  ...  balcony  bathroom  \\\n",
       "11684          35      3           1        0  38000  ...        1         1   \n",
       "11685          35      2           2        0  39000  ...        0         1   \n",
       "11686          35      4           1        0  40000  ...        1         1   \n",
       "11687          34      3           1        0  40000  ...        1         1   \n",
       "11688          32      1           1        0  40000  ...        0         1   \n",
       "...           ...    ...         ...      ...    ...  ...      ...       ...   \n",
       "23363          35     10           0        0  42000  ...        1         1   \n",
       "23364          38      5           4        0  45000  ...        2         1   \n",
       "23365          43      5           2        0  50000  ...        1         1   \n",
       "23366          52      8           4        1  55000  ...        2         3   \n",
       "23367          90      6           1        0  57000  ...        2         2   \n",
       "\n",
       "       animals_kids  room_furn  kitch_furn  fridge  washing_mach  internet  \\\n",
       "11684             0          1           1       1             1         0   \n",
       "11685             2          1           0       0             1         1   \n",
       "11686             1          1           0       0             1         1   \n",
       "11687             2          1           0       0             1         1   \n",
       "11688             2          1           0       0             1         1   \n",
       "...             ...        ...         ...     ...           ...       ...   \n",
       "23363             0          1           1       1             1         1   \n",
       "23364             0          1           1       1             1         0   \n",
       "23365             1          0           1       1             1         1   \n",
       "23366             0          1           1       1             1         0   \n",
       "23367             2          1           1       1             1         1   \n",
       "\n",
       "       ceil_height  elevator  \n",
       "11684         2.64         0  \n",
       "11685         2.89         0  \n",
       "11686         2.60         0  \n",
       "11687         2.50         0  \n",
       "11688         2.60         0  \n",
       "...            ...       ...  \n",
       "23363         2.89         1  \n",
       "23364         2.89         1  \n",
       "23365         2.89         0  \n",
       "23366         2.65         1  \n",
       "23367         2.89         1  \n",
       "\n",
       "[11684 rows x 21 columns]"
      ]
     },
     "execution_count": 596,
     "metadata": {},
     "output_type": "execute_result"
    }
   ],
   "source": [
    "fd2"
   ]
  },
  {
   "cell_type": "code",
   "execution_count": null,
   "id": "fd1c10a2-454b-4529-b4f8-ffe2a75bdcb9",
   "metadata": {},
   "outputs": [],
   "source": []
  }
 ],
 "metadata": {
  "kernelspec": {
   "display_name": "Python 3 (ipykernel)",
   "language": "python",
   "name": "python3"
  },
  "language_info": {
   "codemirror_mode": {
    "name": "ipython",
    "version": 3
   },
   "file_extension": ".py",
   "mimetype": "text/x-python",
   "name": "python",
   "nbconvert_exporter": "python",
   "pygments_lexer": "ipython3",
   "version": "3.10.12"
  }
 },
 "nbformat": 4,
 "nbformat_minor": 5
}
